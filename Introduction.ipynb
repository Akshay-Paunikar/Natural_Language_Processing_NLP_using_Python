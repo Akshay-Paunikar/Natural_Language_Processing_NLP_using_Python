{
 "cells": [
  {
   "attachments": {},
   "cell_type": "markdown",
   "metadata": {},
   "source": [
    "<h3>What is NLP?</h3>\n",
    "\n",
    " - NLP stands for Natural Language Processing, which is a part of Computer Science, Human language, and Artificial Intelligence. It is the technology that is used by machines to understand, analyse, manipulate, and interpret human's languages. It helps developers to organize knowledge for performing tasks such as translation, automatic summarization, Named Entity Recognition (NER), speech recognition, relationship extraction, and topic segmentation."
   ]
  },
  {
   "attachments": {},
   "cell_type": "markdown",
   "metadata": {},
   "source": [
    "<h3>How to build an NLP pipeline?</h3>\n",
    "\n",
    " - There are the following steps to build an NLP pipeline:\n",
    "\n",
    "<h4>Step1: Sentence Segmentation</h4>\n",
    "\n",
    " - Sentence Segment is the first step for building the NLP pipeline. It breaks the paragraph into separate sentences.\n",
    "\n",
    "Example: Consider the following paragraph:\n",
    "\n",
    "Independence Day is one of the important festivals for every Indian citizen. It is celebrated on the 15th of August each year ever since India got independence from the British rule. The day celebrates independence in the true sense.\n",
    "\n",
    "Sentence Segment produces the following result:\n",
    "\n",
    " 1. \"Independence Day is one of the important festivals for every Indian citizen.\"\n",
    " 2. \"It is celebrated on the 15th of August each year ever since India got independence from the British rule.\"\n",
    " 3. \"This day celebrates independence in the true sense.\"\n",
    "\n",
    "<h4>Step2: Word Tokenization</h4>\n",
    "\n",
    " - Word Tokenizer is used to break the sentence into separate words or tokens.\n",
    "\n",
    "Example:\n",
    "\n",
    "JavaTpoint offers Corporate Training, Summer Training, Online Training, and Winter Training.\n",
    "\n",
    "Word Tokenizer generates the following result:\n",
    "\n",
    "\"JavaTpoint\", \"offers\", \"Corporate\", \"Training\", \"Summer\", \"Training\", \"Online\", \"Training\", \"and\", \"Winter\", \"Training\", \".\"\n",
    "\n",
    "<h4>Step3: Stemming</h4>\n",
    "\n",
    " - Stemming is used to normalize words into its base form or root form. For example, celebrates, celebrated and celebrating, all these words are originated with a single root word \"celebrate.\" The big problem with stemming is that sometimes it produces the root word which may not have any meaning.\n",
    "\n",
    "For Example, intelligence, intelligent, and intelligently, all these words are originated with a single root word \"intelligen.\" In English, the word \"intelligen\" do not have any meaning.\n",
    "\n",
    "<h4>Step 4: Lemmatization</h4>\n",
    "\n",
    " - Lemmatization is quite similar to the Stamming. It is used to group different inflected forms of the word, called Lemma. The main difference between Stemming and lemmatization is that it produces the root word, which has a meaning.\n",
    "\n",
    "For example: In lemmatization, the words intelligence, intelligent, and intelligently has a root word intelligent, which has a meaning.\n",
    "\n",
    "<h4>Step 5: Identifying Stop Words</h5>\n",
    "\n",
    " - In English, there are a lot of words that appear very frequently like \"is\", \"and\", \"the\", and \"a\". NLP pipelines will flag these words as stop words. Stop words might be filtered out before doing any statistical analysis.\n",
    "\n",
    "Example: He is a good boy.\n",
    "\n",
    "<h4>Step 6: Dependency Parsing</h4>\n",
    "\n",
    " - Dependency Parsing is used to find that how all the words in the sentence are related to each other.\n",
    "\n",
    "<h4>Step 7: POS tags</h4>\n",
    "\n",
    " - POS stands for parts of speech, which includes Noun, verb, adverb, and Adjective. It indicates that how a word functions with its meaning as well as grammatically within the sentences. A word has one or more parts of speech based on the context in which it is used.\n",
    "\n",
    "Example: \"Google\" something on the Internet.\n",
    "\n",
    "In the above example, Google is used as a verb, although it is a proper noun.\n",
    "\n",
    "<h4>Step 8: Named Entity Recognition (NER)</h4>\n",
    "\n",
    " - Named Entity Recognition (NER) is the process of detecting the named entity such as person name, movie name, organization name, or location.\n",
    "\n",
    "Example: Steve Jobs introduced iPhone at the Macworld Conference in San Francisco, California.\n",
    "\n",
    "<h4>Step 9: Chunking</h4>\n",
    "\n",
    " - Chunking is used to collect the individual piece of information and grouping them into bigger pieces of sentences."
   ]
  },
  {
   "attachments": {},
   "cell_type": "markdown",
   "metadata": {},
   "source": [
    "<h3>Phases of NLP</h3>\n",
    "\n",
    " - There are the following five phases of NLP:\n",
    "\n",
    " 1. Lexical Analysis and Morphological\n",
    "\n",
    "The first phase of NLP is the Lexical Analysis. This phase scans the source code as a stream of characters and converts it into meaningful lexemes. It divides the whole text into paragraphs, sentences, and words.\n",
    "\n",
    " 2. Syntactic Analysis (Parsing)\n",
    "\n",
    "Syntactic Analysis is used to check grammar, word arrangements, and shows the relationship among the words.\n",
    "\n",
    "Example: Agra goes to the Poonam\n",
    "\n",
    "In the real world, Agra goes to the Poonam, does not make any sense, so this sentence is rejected by the Syntactic analyzer.\n",
    "\n",
    " 3. Semantic Analysis\n",
    "\n",
    "Semantic analysis is concerned with the meaning representation. It mainly focuses on the literal meaning of words, phrases, and sentences.\n",
    "\n",
    " 4. Discourse Integration\n",
    "\n",
    "Discourse Integration depends upon the sentences that proceeds it and also invokes the meaning of the sentences that follow it.\n",
    "\n",
    " 5. Pragmatic Analysis\n",
    "\n",
    "Pragmatic is the fifth and last phase of NLP. It helps you to discover the intended effect by applying a set of rules that characterize cooperative dialogues.\n",
    "\n",
    "For Example: \"Open the door\" is interpreted as a request instead of an order."
   ]
  },
  {
   "cell_type": "code",
   "execution_count": 1,
   "metadata": {},
   "outputs": [
    {
     "name": "stdout",
     "output_type": "stream",
     "text": [
      "Requirement already satisfied: nltk in d:\\anaconda\\envs\\deep_learning\\lib\\site-packages (3.7)\n",
      "Requirement already satisfied: joblib in d:\\anaconda\\envs\\deep_learning\\lib\\site-packages (from nltk) (1.1.0)\n",
      "Requirement already satisfied: click in d:\\anaconda\\envs\\deep_learning\\lib\\site-packages (from nltk) (8.1.3)\n",
      "Requirement already satisfied: tqdm in d:\\anaconda\\envs\\deep_learning\\lib\\site-packages (from nltk) (4.64.0)\n",
      "Requirement already satisfied: regex>=2021.8.3 in d:\\anaconda\\envs\\deep_learning\\lib\\site-packages (from nltk) (2022.4.24)\n",
      "Requirement already satisfied: colorama in d:\\anaconda\\envs\\deep_learning\\lib\\site-packages (from click->nltk) (0.4.5)\n"
     ]
    }
   ],
   "source": [
    "# !pip install nltk"
   ]
  },
  {
   "cell_type": "code",
   "execution_count": 3,
   "metadata": {},
   "outputs": [
    {
     "name": "stdout",
     "output_type": "stream",
     "text": [
      "showing info https://raw.githubusercontent.com/nltk/nltk_data/gh-pages/index.xml\n"
     ]
    },
    {
     "data": {
      "text/plain": [
       "True"
      ]
     },
     "execution_count": 3,
     "metadata": {},
     "output_type": "execute_result"
    }
   ],
   "source": [
    "# import nltk\n",
    "# nltk.download()"
   ]
  }
 ],
 "metadata": {
  "kernelspec": {
   "display_name": "Deep_Learning",
   "language": "python",
   "name": "python3"
  },
  "language_info": {
   "codemirror_mode": {
    "name": "ipython",
    "version": 3
   },
   "file_extension": ".py",
   "mimetype": "text/x-python",
   "name": "python",
   "nbconvert_exporter": "python",
   "pygments_lexer": "ipython3",
   "version": "3.9.18"
  },
  "orig_nbformat": 4
 },
 "nbformat": 4,
 "nbformat_minor": 2
}
